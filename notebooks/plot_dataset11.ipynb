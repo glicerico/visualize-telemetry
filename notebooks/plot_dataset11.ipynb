{
 "cells": [
  {
   "cell_type": "code",
   "execution_count": null,
   "metadata": {},
   "outputs": [],
   "source": [
    "import sys\n",
    "import numpy as np\n",
    "import pandas as pd\n",
    "import matplotlib.pyplot as plt"
   ]
  },
  {
   "cell_type": "code",
   "execution_count": null,
   "metadata": {},
   "outputs": [],
   "source": [
    "dataset_path = \"/home/andres/CAiN_repos/telemetry/11/Dataset/\"\n",
    "sys.path.append(dataset_path)\n",
    "# Datafile names and columns\n",
    "dataevents = 'events.csv'\n",
    "timecol = 'timestamp'\n",
    "ts = 'ts'\n",
    "datafile1 = 'Cisco-show_interface.csv'\n",
    "features1 = ['bytes-sent', 'bytes-received']\n",
    "datafile2 = 'Cisco-show_bfd_all.csv'\n",
    "features2 = ['bfd_ipv6_sessions_down', 'bfd_ipv4_sessions_up', 'bfd_ipv6_sessions_up', 'bfd_ipv6_sessions_total', 'bfd_ipv4_sessions_down', 'bfd_ipv4_sessions_total']\n"
   ]
  },
  {
   "cell_type": "code",
   "execution_count": null,
   "metadata": {},
   "outputs": [],
   "source": [
    "# Load data\n",
    "data_events = pd.read_csv(dataset_path+dataevents)\n",
    "data1 = pd.read_csv(dataset_path+datafile1)\n",
    "data2 = pd.read_csv(dataset_path+datafile2)"
   ]
  },
  {
   "cell_type": "code",
   "execution_count": null,
   "metadata": {},
   "outputs": [],
   "source": [
    "# Shift times to start from 0\n",
    "data1[ts] = (data1[ts] - min(data_events[timecol]))\n",
    "data2[ts] = (data2[ts] - min(data_events[timecol]))\n",
    "data_events[timecol] = (data_events[timecol] - min(data_events[timecol]))"
   ]
  },
  {
   "cell_type": "code",
   "execution_count": null,
   "metadata": {},
   "outputs": [],
   "source": [
    "# Plot anomalies\n",
    "fig, ax = plt.subplots()\n",
    "#ax.axis([0, 2000, 0, 300])\n",
    "ax.plot(data1[ts], data1[features1])\n",
    "for idx, event in data_events.iterrows():\n",
    "    if event['duration'] != 'NaN':\n",
    "        duration = event['duration']\n",
    "    else:\n",
    "        duration = 1\n",
    "    ax.axvspan(event[timecol], event[timecol] + duration, alpha=0.25, color='red')"
   ]
  },
  {
   "cell_type": "code",
   "execution_count": null,
   "metadata": {},
   "outputs": [],
   "source": [
    "# Plot anomalies\n",
    "fig, ax = plt.subplots()\n",
    "#ax.axis([0, 2000, 0, 300])\n",
    "ax.plot(data2[ts], data2[features2])\n",
    "for idx, event in data_events.iterrows():\n",
    "    if event['duration'] != 'NaN':\n",
    "        duration = event['duration']\n",
    "    else:\n",
    "        duration = 1\n",
    "    ax.axvspan(event[timecol], event[timecol] + duration, alpha=0.25, color='red')"
   ]
  },
  {
   "cell_type": "code",
   "execution_count": null,
   "metadata": {},
   "outputs": [],
   "source": [
    "# Group repeated time entries, and apply aggregator_funcs to overlapping fields\n",
    "agg_telemetry=telemetry.groupby(telemetry['time']).aggregate(aggregator_funcs)"
   ]
  },
  {
   "cell_type": "code",
   "execution_count": null,
   "metadata": {},
   "outputs": [],
   "source": [
    "# Tag anomaly times (from casedata file)\n",
    "agg_telemetry['anomaly'] = 0 # add new column\n",
    "anomaly_minutes = [(5,7), (10, 12), (15,17), (20, 23), (25, 28)] # from casedata\n",
    "shift = 2 # number of minutes \"ground truth\" is shifted\n",
    "anomaly_seconds = [((i-shift) * 60, (j-shift) * 60) for i,j in anomaly_minutes] # convert to seconds\n",
    "\n",
    "# flag entries within anomaly ranges\n",
    "for i in anomaly_seconds:\n",
    "    mask = agg_telemetry['time'].between(i[0], i[1])\n",
    "    agg_telemetry['anomaly'] = agg_telemetry.anomaly.mask(mask, 1)"
   ]
  },
  {
   "cell_type": "code",
   "execution_count": null,
   "metadata": {},
   "outputs": [],
   "source": [
    "agg_telemetry[agg_telemetry.anomaly==1]"
   ]
  },
  {
   "cell_type": "code",
   "execution_count": null,
   "metadata": {},
   "outputs": [],
   "source": [
    "agg_telemetry.head()"
   ]
  },
  {
   "cell_type": "code",
   "execution_count": null,
   "metadata": {
    "scrolled": true
   },
   "outputs": [],
   "source": [
    "agg_telemetry.tail()"
   ]
  },
  {
   "cell_type": "code",
   "execution_count": null,
   "metadata": {},
   "outputs": [],
   "source": [
    "agg_telemetry[0:].to_csv('embeddings3_shifted.txt', index=False, columns=sum_cols + avg_cols + max_cols, header=False, na_rep=0, sep='\\t')"
   ]
  },
  {
   "cell_type": "code",
   "execution_count": null,
   "metadata": {},
   "outputs": [],
   "source": [
    "agg_telemetry[0:].to_csv('labels3_shifted.txt', index=False, columns=['time', 'name', 'anomaly', 'Producer'], header=True, na_rep=0, sep='\\t')"
   ]
  },
  {
   "cell_type": "code",
   "execution_count": null,
   "metadata": {},
   "outputs": [],
   "source": [
    "agg_telemetry.size()"
   ]
  },
  {
   "cell_type": "code",
   "execution_count": null,
   "metadata": {},
   "outputs": [],
   "source": []
  }
 ],
 "metadata": {
  "kernelspec": {
   "display_name": "Python 3",
   "language": "python",
   "name": "python3"
  },
  "language_info": {
   "codemirror_mode": {
    "name": "ipython",
    "version": 3
   },
   "file_extension": ".py",
   "mimetype": "text/x-python",
   "name": "python",
   "nbconvert_exporter": "python",
   "pygments_lexer": "ipython3",
   "version": "3.7.3"
  }
 },
 "nbformat": 4,
 "nbformat_minor": 2
}
