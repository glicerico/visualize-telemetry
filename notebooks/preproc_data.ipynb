{
 "cells": [
  {
   "cell_type": "code",
   "execution_count": null,
   "metadata": {},
   "outputs": [],
   "source": [
    "import numpy as np\n",
    "import pandas as pd"
   ]
  },
  {
   "cell_type": "code",
   "execution_count": null,
   "metadata": {},
   "outputs": [],
   "source": [
    "### PARAMETERS\n",
    "##################\n",
    "\n",
    "dataset_path = '/home/andres/CAiN_repos/telemetry/1/baseline_no_anomaly_500Gbps.csv'\n",
    "\n",
    "# functions to use in aggregation\n",
    "# columns using 'sum' as aggregator function\n",
    "sum_cols = ['acl-in-rpf-packets', 'active-routes-count', 'backup-routes-count', 'bytes-received', 'bytes-sent', \\\n",
    "           'carrier-transitions', 'checksum-error-packets', 'crc-errors', 'deleted-routes-count', \\\n",
    "            'df-unreachable-packets', 'discard-packets', 'encapsulation-failure-packets', \\\n",
    "            'fragmenation-consumed-packets', 'fragmenation-failure-packets', \\\n",
    "            'global__established-neighbors-count-total', 'global__neighbors-count-total', 'global__nexthop-count', \\\n",
    "           'global__restart-count', 'gre-error-drop', 'gre-lookup-failed-drop', 'incomplete-adjacency-packets', \\\n",
    "           'input-drops', 'input-errors', 'input-ignored-packets', 'input-queue-drops', 'lisp-decap-error-drops', \\\n",
    "           'lisp-encap-error-drops', 'lisp-punt-drops', 'load-interval', 'multi-label-drops', 'no-route-packets', \\\n",
    "           'null-packets', 'output-buffer-failures', 'output-drops', 'output-errors', 'output-queue-drops', \\\n",
    "           'packets-received', 'packets-sent', 'paths-count', \\\n",
    "            'performance-statistics__global__configuration-items-processed', \\\n",
    "            'performance-statistics__vrf__inbound-update-messages', 'punt-unreachable-packets', \\\n",
    "           'rp-destination-drop-packets', 'rpf-check-failure-packets', 'total-number-of-drop-packets', \\\n",
    "           'unresolved-prefix-packets', 'unsupported-feature-packets', 'vrf__neighbors-count', \\\n",
    "           'vrf__network-count', 'vrf__path-count', 'vrf__update-messages-received']\n",
    "# columns using 'first' as aggregator function\n",
    "first_cols = ['name', 'time', 'EncodingPath', 'Producer', 'af-name', 'as', 'instance-name', 'interface-name', \\\n",
    "             'mpls-disabled-interface', 'node-name', \\\n",
    "             'performance-statistics__global__ipv4rib-server__is-rib-connection-up', \\\n",
    "             'performance-statistics__global__ipv4rib-server__rib-connection-up-count', \\\n",
    "             'route-table-name', 'routes-counts', 'saf-name', 'vrf-name']\n",
    "# columns using 'np.mean' as aggregator function\n",
    "avg_cols = ['bandwidth', 'free-application-memory', 'free-physical-memory', 'input-data-rate', \\\n",
    "           'input-load', 'input-packet-rate', 'output-data-rate', 'output-load', 'output-packet-rate', \\\n",
    "           'protocol-route-memory', 'ram-memory', 'reliability', 'system-ram-memory', 'total-cpu-fifteen-minute', \\\n",
    "           'total-cpu-five-minute', 'total-cpu-one-minute']\n",
    "# columns using 'max' as aggregator function\n",
    "max_cols = ['peak-input-data-rate', 'peak-input-packet-rate', 'peak-output-data-rate', 'peak-output-packet-rate']\n",
    "\n",
    "# names of features (columns) to ignore\n",
    "non_features=['EncodingPath', 'af-name', 'instance-name', 'interface-name', 'node-name', 'saf-name', 'vrf-name']"
   ]
  },
  {
   "cell_type": "code",
   "execution_count": null,
   "metadata": {},
   "outputs": [],
   "source": [
    "# Create dict of aggregator functions\n",
    "sum_list = [(i, 'sum') for i in sum_cols]\n",
    "first_list = [(i, 'first') for i in first_cols]\n",
    "avg_list = [(i, np.mean) for i in avg_cols]\n",
    "max_list = [(i, 'max') for i in max_cols]\n",
    "aggregator_funcs = dict(sum_list + first_list + avg_list + max_list)"
   ]
  },
  {
   "cell_type": "code",
   "execution_count": null,
   "metadata": {},
   "outputs": [],
   "source": [
    "# specify data types for text fields, to avoid warning\n",
    "column_dtypes = {'af-name': str, 'instance-name': str, 'interface-name': str, 'node-name': str, \\\n",
    "                 'performance-statistics__global__ipv4rib-server__is-rib-connection-up': str, \\\n",
    "                 'saf-name': str, 'route-table-name': str, 'vrf-name': str, 'time': int}\n",
    "\n",
    "# read only columns of interest\n",
    "#telemetry = pd.read_csv(dataset_path, usecols=features)\n",
    "telemetry = pd.read_csv(dataset_path, dtype = column_dtypes) # use all features for now"
   ]
  },
  {
   "cell_type": "code",
   "execution_count": null,
   "metadata": {},
   "outputs": [],
   "source": [
    "# Shift times to start from 0 and convert from nanoseconds to miliseconds\n",
    "telemetry['time'] = (telemetry['time'] - min(telemetry['time'])) / 1000000"
   ]
  },
  {
   "cell_type": "code",
   "execution_count": null,
   "metadata": {},
   "outputs": [],
   "source": [
    "# Group repeated time entries, and apply aggregator_funcs to overlapping fields\n",
    "agg_telemetry=telemetry.groupby(telemetry['time']).aggregate(aggregator_funcs)\n",
    "\n",
    "# Return time as a column\n",
    "#agg_telemetry['time'] = agg_telemetry.index\n",
    "#agg_telemetry.reset_index(level=0, inplace=True)"
   ]
  },
  {
   "cell_type": "code",
   "execution_count": null,
   "metadata": {},
   "outputs": [],
   "source": [
    "agg_telemetry.head()"
   ]
  },
  {
   "cell_type": "code",
   "execution_count": null,
   "metadata": {},
   "outputs": [],
   "source": [
    "agg_telemetry.tail()"
   ]
  },
  {
   "cell_type": "code",
   "execution_count": null,
   "metadata": {},
   "outputs": [],
   "source": [
    "agg_telemetry[0:].to_csv('embeddings1.txt', index=False, columns=sum_cols + avg_cols + max_cols, header=False, na_rep=0, sep='\\t')"
   ]
  },
  {
   "cell_type": "code",
   "execution_count": null,
   "metadata": {},
   "outputs": [],
   "source": [
    "agg_telemetry[0:].to_csv('labels1.txt', index=False, columns=['time', 'name'], header=True, na_rep=0, sep='\\t')"
   ]
  },
  {
   "cell_type": "code",
   "execution_count": null,
   "metadata": {},
   "outputs": [],
   "source": []
  }
 ],
 "metadata": {
  "kernelspec": {
   "display_name": "Python 3",
   "language": "python",
   "name": "python3"
  },
  "language_info": {
   "codemirror_mode": {
    "name": "ipython",
    "version": 3
   },
   "file_extension": ".py",
   "mimetype": "text/x-python",
   "name": "python",
   "nbconvert_exporter": "python",
   "pygments_lexer": "ipython3",
   "version": "3.7.3"
  }
 },
 "nbformat": 4,
 "nbformat_minor": 2
}
