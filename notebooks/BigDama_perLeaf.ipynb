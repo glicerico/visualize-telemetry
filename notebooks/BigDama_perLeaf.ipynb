{
 "cells": [
  {
   "cell_type": "code",
   "execution_count": 10,
   "metadata": {},
   "outputs": [],
   "source": [
    "import os, sys\n",
    "import json\n",
    "import numpy as np\n",
    "import pandas as pd\n",
    "import matplotlib.pyplot as plt"
   ]
  },
  {
   "cell_type": "code",
   "execution_count": 11,
   "metadata": {},
   "outputs": [],
   "source": [
    "bigdama_path = \"/home/andres/CAiN_repos/OutlierDenStream-BigDama18/\"\n",
    "sys.path.append(bigdama_path)\n",
    "\n",
    "from readGroundTruth import groundTruth"
   ]
  },
  {
   "cell_type": "code",
   "execution_count": 16,
   "metadata": {},
   "outputs": [
    {
     "name": "stdout",
     "output_type": "stream",
     "text": [
      "DataPlane\n",
      "Dataset bgpclear_first - Node: leaf1 loading ...\n",
      "Done.\n"
     ]
    },
    {
     "data": {
      "text/plain": [
       "(664, 201)"
      ]
     },
     "execution_count": 16,
     "metadata": {},
     "output_type": "execute_result"
    }
   ],
   "source": [
    "def normalize_matrix(df):\n",
    "    return (df - df.mean())/df.std()\n",
    "\n",
    "configuration = json.load(open('configuration.json'))\n",
    "print(configuration['featureModel'])\n",
    "\n",
    "# Iterate on all the datasets chosen in the configuration list\n",
    "for dataset in configuration['dataset']['list']:\n",
    "    \n",
    "    # read the ground truth file\n",
    "    truth = groundTruth(bigdama_path + 'GrounTruth/'+dataset+'.txt', fileType='csv')\n",
    "    \n",
    "    # Iterate on all the nodes chosen in the configuration file\n",
    "    for node in configuration['nodes']:\n",
    "\n",
    "        # Read node dataset\n",
    "        print('Dataset {} - Node: {} loading ...'.format(dataset,node))\n",
    "        df = pd.read_csv(bigdama_path+configuration['dataset']['path']+node+dataset+'.csv', low_memory = False)\\\n",
    "                        .dropna()\\\n",
    "                        .drop('Unnamed: 0', axis=1)\n",
    "        print('Done.')\n",
    "        \n",
    "        times = pd.DataFrame(columns=['time'])\n",
    "        times['time'] = df['time'].astype('int')\n",
    "        df = df.drop(['time'], axis=1)\n",
    "\n",
    "        # Select the chosen features in the configuration file\n",
    "        # By default the dataset contains all the features\n",
    "        # If ControlPlane is chosen: only the CP features are extracted from the dataset\n",
    "        # If DataPlane is chosen: the CP features are discarded, obtaining a dataset with only DataPlane\n",
    "        # If CompleteFeatures is chosen: pass\n",
    "        if configuration['featureModel'] == 'ControlPlane':\n",
    "            features = 'CP'\n",
    "            df = df[configuration['featureList']]\n",
    "        elif configuration['featureModel'] == 'DataPlane':\n",
    "            features = 'DP'\n",
    "            df = df.drop(configuration['featureList'], axis=1)\n",
    "        elif configuration['featureModel'] == 'CompleteFeatures':\n",
    "            features = 'All'\n",
    "        else:\n",
    "            sys.exit('Something wrong in configuration feature model')\n",
    "\n",
    "        # Dataset normalization\n",
    "        df_short = df.loc[:,df.std()!=0]\n",
    "        dfNormalized = normalize_matrix(df_short).dropna(axis=1)\n",
    "        del df_short\n",
    "        \n",
    "        dfNormalized[0:].to_csv(dataset+'_'+node+'_'+features+'.emb', index=False, header=False, na_rep=0, sep='\\t')\n",
    "        #df[0:].to_csv(dataset+'_'+node+'_'+features+'.emb', index=False, header=False, na_rep=0, sep='\\t')\n",
    "        \n",
    "        # Create anomaly data\n",
    "        times['anomaly'] = 0 # add new column\n",
    "        times['node'] = node\n",
    "\n",
    "        # flag entries within anomaly ranges\n",
    "        for anomaly in truth.events:\n",
    "            mask = times['time'].between(anomaly['startTime'], anomaly['endTime'])\n",
    "            times['anomaly'] = times['anomaly'].mask(mask, 1)\n",
    "\n",
    "        times[0:].to_csv(dataset+'_'+node+'_'+features+'.lbl', index=False, header=True, na_rep=0, sep='\\t')\n",
    "        \n",
    "dfNormalized.shape"
   ]
  },
  {
   "cell_type": "code",
   "execution_count": 6,
   "metadata": {
    "scrolled": true
   },
   "outputs": [
    {
     "name": "stderr",
     "output_type": "stream",
     "text": [
      "/home/andres/src/miniconda3/lib/python3.7/site-packages/ipykernel_launcher.py:6: MatplotlibDeprecationWarning: cycling among columns of inputs with non-matching shapes is deprecated.\n",
      "  \n"
     ]
    },
    {
     "ename": "ConversionError",
     "evalue": "Failed to convert value(s) to axis units: array(['leaf1', 'leaf1', 'leaf1', 'leaf1', 'leaf1', 'leaf1', 'leaf1',\n       'leaf1', 'leaf1', 'leaf1', 'leaf1', 'leaf1', 'leaf1', 'leaf1',\n       'leaf1', 'leaf1', 'leaf1', 'leaf1', 'leaf1', 'leaf1', 'leaf1',\n       'leaf1', 'leaf1', 'leaf1', 'leaf1', 'leaf1', 'leaf1', 'leaf1',\n       'leaf1', 'leaf1', 'leaf1', 'leaf1', 'leaf1', 'leaf1', 'leaf1',\n       'leaf1', 'leaf1', 'leaf1', 'leaf1', 'leaf1', 'leaf1', 'leaf1',\n       'leaf1', 'leaf1', 'leaf1', 'leaf1', 'leaf1', 'leaf1', 'leaf1',\n       'leaf1', 'leaf1', 'leaf1', 'leaf1', 'leaf1', 'leaf1', 'leaf1',\n       'leaf1', 'leaf1', 'leaf1', 'leaf1', 'leaf1', 'leaf1', 'leaf1',\n       'leaf1', 'leaf1', 'leaf1', 'leaf1', 'leaf1', 'leaf1', 'leaf1',\n       'leaf1', 'leaf1', 'leaf1', 'leaf1', 'leaf1', 'leaf1', 'leaf1',\n       'leaf1', 'leaf1', 'leaf1', 'leaf1', 'leaf1', 'leaf1', 'leaf1',\n       'leaf1', 'leaf1', 'leaf1', 'leaf1', 'leaf1', 'leaf1', 'leaf1',\n       'leaf1', 'leaf1', 'leaf1', 'leaf1', 'leaf1', 'leaf1', 'leaf1',\n       'leaf1', 'leaf1', 'leaf1', 'leaf1', 'leaf1', 'leaf1', 'leaf1',\n       'leaf1', 'leaf1', 'leaf1', 'leaf1', 'leaf1', 'leaf1', 'leaf1',\n       'leaf1', 'leaf1', 'leaf1', 'leaf1', 'leaf1', 'leaf1', 'leaf1',\n       'leaf1', 'leaf1', 'leaf1', 'leaf1', 'leaf1', 'leaf1', 'leaf1',\n       'leaf1', 'leaf1', 'leaf1', 'leaf1', 'leaf1', 'leaf1', 'leaf1',\n       'leaf1', 'leaf1', 'leaf1', 'leaf1', 'leaf1', 'leaf1', 'leaf1',\n       'leaf1', 'leaf1', 'leaf1', 'leaf1', 'leaf1', 'leaf1', 'leaf1',\n       'leaf1', 'leaf1', 'leaf1', 'leaf1', 'leaf1', 'leaf1', 'leaf1',\n       'leaf1', 'leaf1', 'leaf1', 'leaf1', 'leaf1', 'leaf1', 'leaf1',\n       'leaf1', 'leaf1', 'leaf1', 'leaf1', 'leaf1', 'leaf1', 'leaf1',\n       'leaf1', 'leaf1', 'leaf1', 'leaf1', 'leaf1', 'leaf1', 'leaf1',\n       'leaf1', 'leaf1', 'leaf1', 'leaf1', 'leaf1', 'leaf1', 'leaf1',\n       'leaf1', 'leaf1', 'leaf1', 'leaf1', 'leaf1', 'leaf1', 'leaf1',\n       'leaf1', 'leaf1', 'leaf1', 'leaf1', 'leaf1', 'leaf1', 'leaf1',\n       'leaf1', 'leaf1', 'leaf1', 'leaf1', 'leaf1', 'leaf1', 'leaf1',\n       'leaf1', 'leaf1', 'leaf1', 'leaf1', 'leaf1', 'leaf1', 'leaf1',\n       'leaf1', 'leaf1', 'leaf1', 'leaf1', 'leaf1', 'leaf1', 'leaf1',\n       'leaf1', 'leaf1', 'leaf1', 'leaf1', 'leaf1', 'leaf1', 'leaf1',\n       'leaf1', 'leaf1', 'leaf1', 'leaf1', 'leaf1', 'leaf1', 'leaf1',\n       'leaf1', 'leaf1', 'leaf1', 'leaf1', 'leaf1', 'leaf1', 'leaf1',\n       'leaf1', 'leaf1', 'leaf1', 'leaf1', 'leaf1', 'leaf1', 'leaf1',\n       'leaf1', 'leaf1', 'leaf1', 'leaf1', 'leaf1', 'leaf1', 'leaf1',\n       'leaf1', 'leaf1', 'leaf1', 'leaf1', 'leaf1', 'leaf1', 'leaf1',\n       'leaf1', 'leaf1', 'leaf1', 'leaf1', 'leaf1', 'leaf1', 'leaf1',\n       'leaf1', 'leaf1', 'leaf1', 'leaf1', 'leaf1', 'leaf1', 'leaf1',\n       'leaf1', 'leaf1', 'leaf1', 'leaf1', 'leaf1', 'leaf1', 'leaf1',\n       'leaf1', 'leaf1', 'leaf1', 'leaf1', 'leaf1', 'leaf1', 'leaf1',\n       'leaf1', 'leaf1', 'leaf1', 'leaf1', 'leaf1', 'leaf1', 'leaf1',\n       'leaf1', 'leaf1', 'leaf1', 'leaf1', 'leaf1', 'leaf1', 'leaf1',\n       'leaf1', 'leaf1', 'leaf1', 'leaf1', 'leaf1', 'leaf1', 'leaf1',\n       'leaf1', 'leaf1', 'leaf1', 'leaf1', 'leaf1', 'leaf1', 'leaf1',\n       'leaf1', 'leaf1', 'leaf1', 'leaf1', 'leaf1', 'leaf1', 'leaf1',\n       'leaf1', 'leaf1', 'leaf1', 'leaf1', 'leaf1', 'leaf1', 'leaf1',\n       'leaf1', 'leaf1', 'leaf1', 'leaf1', 'leaf1', 'leaf1', 'leaf1',\n       'leaf1', 'leaf1', 'leaf1', 'leaf1', 'leaf1', 'leaf1', 'leaf1',\n       'leaf1', 'leaf1', 'leaf1', 'leaf1', 'leaf1', 'leaf1', 'leaf1'],\n      dtype=object)",
     "output_type": "error",
     "traceback": [
      "\u001b[0;31m---------------------------------------------------------------------------\u001b[0m",
      "\u001b[0;31mValueError\u001b[0m                                Traceback (most recent call last)",
      "\u001b[0;32m~/src/miniconda3/lib/python3.7/site-packages/matplotlib/axis.py\u001b[0m in \u001b[0;36mconvert_units\u001b[0;34m(self, x)\u001b[0m\n\u001b[1;32m   1549\u001b[0m         \u001b[0;32mtry\u001b[0m\u001b[0;34m:\u001b[0m\u001b[0;34m\u001b[0m\u001b[0;34m\u001b[0m\u001b[0m\n\u001b[0;32m-> 1550\u001b[0;31m             \u001b[0mret\u001b[0m \u001b[0;34m=\u001b[0m \u001b[0mself\u001b[0m\u001b[0;34m.\u001b[0m\u001b[0mconverter\u001b[0m\u001b[0;34m.\u001b[0m\u001b[0mconvert\u001b[0m\u001b[0;34m(\u001b[0m\u001b[0mx\u001b[0m\u001b[0;34m,\u001b[0m \u001b[0mself\u001b[0m\u001b[0;34m.\u001b[0m\u001b[0munits\u001b[0m\u001b[0;34m,\u001b[0m \u001b[0mself\u001b[0m\u001b[0;34m)\u001b[0m\u001b[0;34m\u001b[0m\u001b[0;34m\u001b[0m\u001b[0m\n\u001b[0m\u001b[1;32m   1551\u001b[0m         \u001b[0;32mexcept\u001b[0m \u001b[0mException\u001b[0m \u001b[0;32mas\u001b[0m \u001b[0me\u001b[0m\u001b[0;34m:\u001b[0m\u001b[0;34m\u001b[0m\u001b[0;34m\u001b[0m\u001b[0m\n",
      "\u001b[0;32m~/src/miniconda3/lib/python3.7/site-packages/matplotlib/category.py\u001b[0m in \u001b[0;36mconvert\u001b[0;34m(value, unit, axis)\u001b[0m\n\u001b[1;32m     51\u001b[0m             raise ValueError(\n\u001b[0;32m---> 52\u001b[0;31m                 \u001b[0;34m'Missing category information for StrCategoryConverter; '\u001b[0m\u001b[0;34m\u001b[0m\u001b[0;34m\u001b[0m\u001b[0m\n\u001b[0m\u001b[1;32m     53\u001b[0m                 \u001b[0;34m'this might be caused by unintendedly mixing categorical and '\u001b[0m\u001b[0;34m\u001b[0m\u001b[0;34m\u001b[0m\u001b[0m\n",
      "\u001b[0;31mValueError\u001b[0m: Missing category information for StrCategoryConverter; this might be caused by unintendedly mixing categorical and numeric data",
      "\nThe above exception was the direct cause of the following exception:\n",
      "\u001b[0;31mConversionError\u001b[0m                           Traceback (most recent call last)",
      "\u001b[0;32m<ipython-input-6-3105334c8f35>\u001b[0m in \u001b[0;36m<module>\u001b[0;34m\u001b[0m\n\u001b[1;32m      4\u001b[0m \u001b[0;31m#ax.plot(times, dfNormalized['paths-count'], 'r')\u001b[0m\u001b[0;34m\u001b[0m\u001b[0;34m\u001b[0m\u001b[0;34m\u001b[0m\u001b[0m\n\u001b[1;32m      5\u001b[0m \u001b[0;31m#ax.plot(times, dfNormalized['protocol-route-memory'], 'y')\u001b[0m\u001b[0;34m\u001b[0m\u001b[0;34m\u001b[0m\u001b[0;34m\u001b[0m\u001b[0m\n\u001b[0;32m----> 6\u001b[0;31m \u001b[0max\u001b[0m\u001b[0;34m.\u001b[0m\u001b[0mplot\u001b[0m\u001b[0;34m(\u001b[0m\u001b[0mtimes\u001b[0m\u001b[0;34m,\u001b[0m \u001b[0mdfNormalized\u001b[0m\u001b[0;34m)\u001b[0m\u001b[0;34m\u001b[0m\u001b[0;34m\u001b[0m\u001b[0m\n\u001b[0m\u001b[1;32m      7\u001b[0m \u001b[0;31m#ax.axis([0, 700, 900, 1500])\u001b[0m\u001b[0;34m\u001b[0m\u001b[0;34m\u001b[0m\u001b[0;34m\u001b[0m\u001b[0m\n\u001b[1;32m      8\u001b[0m \u001b[0max\u001b[0m\u001b[0;34m.\u001b[0m\u001b[0mset_ylim\u001b[0m\u001b[0;34m(\u001b[0m\u001b[0;34m[\u001b[0m\u001b[0;34m-\u001b[0m\u001b[0;36m3\u001b[0m\u001b[0;34m,\u001b[0m \u001b[0;36m3\u001b[0m\u001b[0;34m]\u001b[0m\u001b[0;34m)\u001b[0m\u001b[0;34m\u001b[0m\u001b[0;34m\u001b[0m\u001b[0m\n",
      "\u001b[0;32m~/src/miniconda3/lib/python3.7/site-packages/matplotlib/axes/_axes.py\u001b[0m in \u001b[0;36mplot\u001b[0;34m(self, scalex, scaley, data, *args, **kwargs)\u001b[0m\n\u001b[1;32m   1666\u001b[0m         \u001b[0mlines\u001b[0m \u001b[0;34m=\u001b[0m \u001b[0;34m[\u001b[0m\u001b[0;34m*\u001b[0m\u001b[0mself\u001b[0m\u001b[0;34m.\u001b[0m\u001b[0m_get_lines\u001b[0m\u001b[0;34m(\u001b[0m\u001b[0;34m*\u001b[0m\u001b[0margs\u001b[0m\u001b[0;34m,\u001b[0m \u001b[0mdata\u001b[0m\u001b[0;34m=\u001b[0m\u001b[0mdata\u001b[0m\u001b[0;34m,\u001b[0m \u001b[0;34m**\u001b[0m\u001b[0mkwargs\u001b[0m\u001b[0;34m)\u001b[0m\u001b[0;34m]\u001b[0m\u001b[0;34m\u001b[0m\u001b[0;34m\u001b[0m\u001b[0m\n\u001b[1;32m   1667\u001b[0m         \u001b[0;32mfor\u001b[0m \u001b[0mline\u001b[0m \u001b[0;32min\u001b[0m \u001b[0mlines\u001b[0m\u001b[0;34m:\u001b[0m\u001b[0;34m\u001b[0m\u001b[0;34m\u001b[0m\u001b[0m\n\u001b[0;32m-> 1668\u001b[0;31m             \u001b[0mself\u001b[0m\u001b[0;34m.\u001b[0m\u001b[0madd_line\u001b[0m\u001b[0;34m(\u001b[0m\u001b[0mline\u001b[0m\u001b[0;34m)\u001b[0m\u001b[0;34m\u001b[0m\u001b[0;34m\u001b[0m\u001b[0m\n\u001b[0m\u001b[1;32m   1669\u001b[0m         \u001b[0mself\u001b[0m\u001b[0;34m.\u001b[0m\u001b[0mautoscale_view\u001b[0m\u001b[0;34m(\u001b[0m\u001b[0mscalex\u001b[0m\u001b[0;34m=\u001b[0m\u001b[0mscalex\u001b[0m\u001b[0;34m,\u001b[0m \u001b[0mscaley\u001b[0m\u001b[0;34m=\u001b[0m\u001b[0mscaley\u001b[0m\u001b[0;34m)\u001b[0m\u001b[0;34m\u001b[0m\u001b[0;34m\u001b[0m\u001b[0m\n\u001b[1;32m   1670\u001b[0m         \u001b[0;32mreturn\u001b[0m \u001b[0mlines\u001b[0m\u001b[0;34m\u001b[0m\u001b[0;34m\u001b[0m\u001b[0m\n",
      "\u001b[0;32m~/src/miniconda3/lib/python3.7/site-packages/matplotlib/axes/_base.py\u001b[0m in \u001b[0;36madd_line\u001b[0;34m(self, line)\u001b[0m\n\u001b[1;32m   1900\u001b[0m             \u001b[0mline\u001b[0m\u001b[0;34m.\u001b[0m\u001b[0mset_clip_path\u001b[0m\u001b[0;34m(\u001b[0m\u001b[0mself\u001b[0m\u001b[0;34m.\u001b[0m\u001b[0mpatch\u001b[0m\u001b[0;34m)\u001b[0m\u001b[0;34m\u001b[0m\u001b[0;34m\u001b[0m\u001b[0m\n\u001b[1;32m   1901\u001b[0m \u001b[0;34m\u001b[0m\u001b[0m\n\u001b[0;32m-> 1902\u001b[0;31m         \u001b[0mself\u001b[0m\u001b[0;34m.\u001b[0m\u001b[0m_update_line_limits\u001b[0m\u001b[0;34m(\u001b[0m\u001b[0mline\u001b[0m\u001b[0;34m)\u001b[0m\u001b[0;34m\u001b[0m\u001b[0;34m\u001b[0m\u001b[0m\n\u001b[0m\u001b[1;32m   1903\u001b[0m         \u001b[0;32mif\u001b[0m \u001b[0;32mnot\u001b[0m \u001b[0mline\u001b[0m\u001b[0;34m.\u001b[0m\u001b[0mget_label\u001b[0m\u001b[0;34m(\u001b[0m\u001b[0;34m)\u001b[0m\u001b[0;34m:\u001b[0m\u001b[0;34m\u001b[0m\u001b[0;34m\u001b[0m\u001b[0m\n\u001b[1;32m   1904\u001b[0m             \u001b[0mline\u001b[0m\u001b[0;34m.\u001b[0m\u001b[0mset_label\u001b[0m\u001b[0;34m(\u001b[0m\u001b[0;34m'_line%d'\u001b[0m \u001b[0;34m%\u001b[0m \u001b[0mlen\u001b[0m\u001b[0;34m(\u001b[0m\u001b[0mself\u001b[0m\u001b[0;34m.\u001b[0m\u001b[0mlines\u001b[0m\u001b[0;34m)\u001b[0m\u001b[0;34m)\u001b[0m\u001b[0;34m\u001b[0m\u001b[0;34m\u001b[0m\u001b[0m\n",
      "\u001b[0;32m~/src/miniconda3/lib/python3.7/site-packages/matplotlib/axes/_base.py\u001b[0m in \u001b[0;36m_update_line_limits\u001b[0;34m(self, line)\u001b[0m\n\u001b[1;32m   1922\u001b[0m         \u001b[0mFigures\u001b[0m \u001b[0mout\u001b[0m \u001b[0mthe\u001b[0m \u001b[0mdata\u001b[0m \u001b[0mlimit\u001b[0m \u001b[0mof\u001b[0m \u001b[0mthe\u001b[0m \u001b[0mgiven\u001b[0m \u001b[0mline\u001b[0m\u001b[0;34m,\u001b[0m \u001b[0mupdating\u001b[0m \u001b[0mself\u001b[0m\u001b[0;34m.\u001b[0m\u001b[0mdataLim\u001b[0m\u001b[0;34m.\u001b[0m\u001b[0;34m\u001b[0m\u001b[0;34m\u001b[0m\u001b[0m\n\u001b[1;32m   1923\u001b[0m         \"\"\"\n\u001b[0;32m-> 1924\u001b[0;31m         \u001b[0mpath\u001b[0m \u001b[0;34m=\u001b[0m \u001b[0mline\u001b[0m\u001b[0;34m.\u001b[0m\u001b[0mget_path\u001b[0m\u001b[0;34m(\u001b[0m\u001b[0;34m)\u001b[0m\u001b[0;34m\u001b[0m\u001b[0;34m\u001b[0m\u001b[0m\n\u001b[0m\u001b[1;32m   1925\u001b[0m         \u001b[0;32mif\u001b[0m \u001b[0mpath\u001b[0m\u001b[0;34m.\u001b[0m\u001b[0mvertices\u001b[0m\u001b[0;34m.\u001b[0m\u001b[0msize\u001b[0m \u001b[0;34m==\u001b[0m \u001b[0;36m0\u001b[0m\u001b[0;34m:\u001b[0m\u001b[0;34m\u001b[0m\u001b[0;34m\u001b[0m\u001b[0m\n\u001b[1;32m   1926\u001b[0m             \u001b[0;32mreturn\u001b[0m\u001b[0;34m\u001b[0m\u001b[0;34m\u001b[0m\u001b[0m\n",
      "\u001b[0;32m~/src/miniconda3/lib/python3.7/site-packages/matplotlib/lines.py\u001b[0m in \u001b[0;36mget_path\u001b[0;34m(self)\u001b[0m\n\u001b[1;32m   1025\u001b[0m         \"\"\"\n\u001b[1;32m   1026\u001b[0m         \u001b[0;32mif\u001b[0m \u001b[0mself\u001b[0m\u001b[0;34m.\u001b[0m\u001b[0m_invalidy\u001b[0m \u001b[0;32mor\u001b[0m \u001b[0mself\u001b[0m\u001b[0;34m.\u001b[0m\u001b[0m_invalidx\u001b[0m\u001b[0;34m:\u001b[0m\u001b[0;34m\u001b[0m\u001b[0;34m\u001b[0m\u001b[0m\n\u001b[0;32m-> 1027\u001b[0;31m             \u001b[0mself\u001b[0m\u001b[0;34m.\u001b[0m\u001b[0mrecache\u001b[0m\u001b[0;34m(\u001b[0m\u001b[0;34m)\u001b[0m\u001b[0;34m\u001b[0m\u001b[0;34m\u001b[0m\u001b[0m\n\u001b[0m\u001b[1;32m   1028\u001b[0m         \u001b[0;32mreturn\u001b[0m \u001b[0mself\u001b[0m\u001b[0;34m.\u001b[0m\u001b[0m_path\u001b[0m\u001b[0;34m\u001b[0m\u001b[0;34m\u001b[0m\u001b[0m\n\u001b[1;32m   1029\u001b[0m \u001b[0;34m\u001b[0m\u001b[0m\n",
      "\u001b[0;32m~/src/miniconda3/lib/python3.7/site-packages/matplotlib/lines.py\u001b[0m in \u001b[0;36mrecache\u001b[0;34m(self, always)\u001b[0m\n\u001b[1;32m    667\u001b[0m     \u001b[0;32mdef\u001b[0m \u001b[0mrecache\u001b[0m\u001b[0;34m(\u001b[0m\u001b[0mself\u001b[0m\u001b[0;34m,\u001b[0m \u001b[0malways\u001b[0m\u001b[0;34m=\u001b[0m\u001b[0;32mFalse\u001b[0m\u001b[0;34m)\u001b[0m\u001b[0;34m:\u001b[0m\u001b[0;34m\u001b[0m\u001b[0;34m\u001b[0m\u001b[0m\n\u001b[1;32m    668\u001b[0m         \u001b[0;32mif\u001b[0m \u001b[0malways\u001b[0m \u001b[0;32mor\u001b[0m \u001b[0mself\u001b[0m\u001b[0;34m.\u001b[0m\u001b[0m_invalidx\u001b[0m\u001b[0;34m:\u001b[0m\u001b[0;34m\u001b[0m\u001b[0;34m\u001b[0m\u001b[0m\n\u001b[0;32m--> 669\u001b[0;31m             \u001b[0mxconv\u001b[0m \u001b[0;34m=\u001b[0m \u001b[0mself\u001b[0m\u001b[0;34m.\u001b[0m\u001b[0mconvert_xunits\u001b[0m\u001b[0;34m(\u001b[0m\u001b[0mself\u001b[0m\u001b[0;34m.\u001b[0m\u001b[0m_xorig\u001b[0m\u001b[0;34m)\u001b[0m\u001b[0;34m\u001b[0m\u001b[0;34m\u001b[0m\u001b[0m\n\u001b[0m\u001b[1;32m    670\u001b[0m             \u001b[0mx\u001b[0m \u001b[0;34m=\u001b[0m \u001b[0m_to_unmasked_float_array\u001b[0m\u001b[0;34m(\u001b[0m\u001b[0mxconv\u001b[0m\u001b[0;34m)\u001b[0m\u001b[0;34m.\u001b[0m\u001b[0mravel\u001b[0m\u001b[0;34m(\u001b[0m\u001b[0;34m)\u001b[0m\u001b[0;34m\u001b[0m\u001b[0;34m\u001b[0m\u001b[0m\n\u001b[1;32m    671\u001b[0m         \u001b[0;32melse\u001b[0m\u001b[0;34m:\u001b[0m\u001b[0;34m\u001b[0m\u001b[0;34m\u001b[0m\u001b[0m\n",
      "\u001b[0;32m~/src/miniconda3/lib/python3.7/site-packages/matplotlib/artist.py\u001b[0m in \u001b[0;36mconvert_xunits\u001b[0;34m(self, x)\u001b[0m\n\u001b[1;32m    178\u001b[0m         \u001b[0;32mif\u001b[0m \u001b[0max\u001b[0m \u001b[0;32mis\u001b[0m \u001b[0;32mNone\u001b[0m \u001b[0;32mor\u001b[0m \u001b[0max\u001b[0m\u001b[0;34m.\u001b[0m\u001b[0mxaxis\u001b[0m \u001b[0;32mis\u001b[0m \u001b[0;32mNone\u001b[0m\u001b[0;34m:\u001b[0m\u001b[0;34m\u001b[0m\u001b[0;34m\u001b[0m\u001b[0m\n\u001b[1;32m    179\u001b[0m             \u001b[0;32mreturn\u001b[0m \u001b[0mx\u001b[0m\u001b[0;34m\u001b[0m\u001b[0;34m\u001b[0m\u001b[0m\n\u001b[0;32m--> 180\u001b[0;31m         \u001b[0;32mreturn\u001b[0m \u001b[0max\u001b[0m\u001b[0;34m.\u001b[0m\u001b[0mxaxis\u001b[0m\u001b[0;34m.\u001b[0m\u001b[0mconvert_units\u001b[0m\u001b[0;34m(\u001b[0m\u001b[0mx\u001b[0m\u001b[0;34m)\u001b[0m\u001b[0;34m\u001b[0m\u001b[0;34m\u001b[0m\u001b[0m\n\u001b[0m\u001b[1;32m    181\u001b[0m \u001b[0;34m\u001b[0m\u001b[0m\n\u001b[1;32m    182\u001b[0m     \u001b[0;32mdef\u001b[0m \u001b[0mconvert_yunits\u001b[0m\u001b[0;34m(\u001b[0m\u001b[0mself\u001b[0m\u001b[0;34m,\u001b[0m \u001b[0my\u001b[0m\u001b[0;34m)\u001b[0m\u001b[0;34m:\u001b[0m\u001b[0;34m\u001b[0m\u001b[0;34m\u001b[0m\u001b[0m\n",
      "\u001b[0;32m~/src/miniconda3/lib/python3.7/site-packages/matplotlib/axis.py\u001b[0m in \u001b[0;36mconvert_units\u001b[0;34m(self, x)\u001b[0m\n\u001b[1;32m   1551\u001b[0m         \u001b[0;32mexcept\u001b[0m \u001b[0mException\u001b[0m \u001b[0;32mas\u001b[0m \u001b[0me\u001b[0m\u001b[0;34m:\u001b[0m\u001b[0;34m\u001b[0m\u001b[0;34m\u001b[0m\u001b[0m\n\u001b[1;32m   1552\u001b[0m             raise munits.ConversionError('Failed to convert value(s) to axis '\n\u001b[0;32m-> 1553\u001b[0;31m                                          f'units: {x!r}') from e\n\u001b[0m\u001b[1;32m   1554\u001b[0m         \u001b[0;32mreturn\u001b[0m \u001b[0mret\u001b[0m\u001b[0;34m\u001b[0m\u001b[0;34m\u001b[0m\u001b[0m\n\u001b[1;32m   1555\u001b[0m \u001b[0;34m\u001b[0m\u001b[0m\n",
      "\u001b[0;31mConversionError\u001b[0m: Failed to convert value(s) to axis units: array(['leaf1', 'leaf1', 'leaf1', 'leaf1', 'leaf1', 'leaf1', 'leaf1',\n       'leaf1', 'leaf1', 'leaf1', 'leaf1', 'leaf1', 'leaf1', 'leaf1',\n       'leaf1', 'leaf1', 'leaf1', 'leaf1', 'leaf1', 'leaf1', 'leaf1',\n       'leaf1', 'leaf1', 'leaf1', 'leaf1', 'leaf1', 'leaf1', 'leaf1',\n       'leaf1', 'leaf1', 'leaf1', 'leaf1', 'leaf1', 'leaf1', 'leaf1',\n       'leaf1', 'leaf1', 'leaf1', 'leaf1', 'leaf1', 'leaf1', 'leaf1',\n       'leaf1', 'leaf1', 'leaf1', 'leaf1', 'leaf1', 'leaf1', 'leaf1',\n       'leaf1', 'leaf1', 'leaf1', 'leaf1', 'leaf1', 'leaf1', 'leaf1',\n       'leaf1', 'leaf1', 'leaf1', 'leaf1', 'leaf1', 'leaf1', 'leaf1',\n       'leaf1', 'leaf1', 'leaf1', 'leaf1', 'leaf1', 'leaf1', 'leaf1',\n       'leaf1', 'leaf1', 'leaf1', 'leaf1', 'leaf1', 'leaf1', 'leaf1',\n       'leaf1', 'leaf1', 'leaf1', 'leaf1', 'leaf1', 'leaf1', 'leaf1',\n       'leaf1', 'leaf1', 'leaf1', 'leaf1', 'leaf1', 'leaf1', 'leaf1',\n       'leaf1', 'leaf1', 'leaf1', 'leaf1', 'leaf1', 'leaf1', 'leaf1',\n       'leaf1', 'leaf1', 'leaf1', 'leaf1', 'leaf1', 'leaf1', 'leaf1',\n       'leaf1', 'leaf1', 'leaf1', 'leaf1', 'leaf1', 'leaf1', 'leaf1',\n       'leaf1', 'leaf1', 'leaf1', 'leaf1', 'leaf1', 'leaf1', 'leaf1',\n       'leaf1', 'leaf1', 'leaf1', 'leaf1', 'leaf1', 'leaf1', 'leaf1',\n       'leaf1', 'leaf1', 'leaf1', 'leaf1', 'leaf1', 'leaf1', 'leaf1',\n       'leaf1', 'leaf1', 'leaf1', 'leaf1', 'leaf1', 'leaf1', 'leaf1',\n       'leaf1', 'leaf1', 'leaf1', 'leaf1', 'leaf1', 'leaf1', 'leaf1',\n       'leaf1', 'leaf1', 'leaf1', 'leaf1', 'leaf1', 'leaf1', 'leaf1',\n       'leaf1', 'leaf1', 'leaf1', 'leaf1', 'leaf1', 'leaf1', 'leaf1',\n       'leaf1', 'leaf1', 'leaf1', 'leaf1', 'leaf1', 'leaf1', 'leaf1',\n       'leaf1', 'leaf1', 'leaf1', 'leaf1', 'leaf1', 'leaf1', 'leaf1',\n       'leaf1', 'leaf1', 'leaf1', 'leaf1', 'leaf1', 'leaf1', 'leaf1',\n       'leaf1', 'leaf1', 'leaf1', 'leaf1', 'leaf1', 'leaf1', 'leaf1',\n       'leaf1', 'leaf1', 'leaf1', 'leaf1', 'leaf1', 'leaf1', 'leaf1',\n       'leaf1', 'leaf1', 'leaf1', 'leaf1', 'leaf1', 'leaf1', 'leaf1',\n       'leaf1', 'leaf1', 'leaf1', 'leaf1', 'leaf1', 'leaf1', 'leaf1',\n       'leaf1', 'leaf1', 'leaf1', 'leaf1', 'leaf1', 'leaf1', 'leaf1',\n       'leaf1', 'leaf1', 'leaf1', 'leaf1', 'leaf1', 'leaf1', 'leaf1',\n       'leaf1', 'leaf1', 'leaf1', 'leaf1', 'leaf1', 'leaf1', 'leaf1',\n       'leaf1', 'leaf1', 'leaf1', 'leaf1', 'leaf1', 'leaf1', 'leaf1',\n       'leaf1', 'leaf1', 'leaf1', 'leaf1', 'leaf1', 'leaf1', 'leaf1',\n       'leaf1', 'leaf1', 'leaf1', 'leaf1', 'leaf1', 'leaf1', 'leaf1',\n       'leaf1', 'leaf1', 'leaf1', 'leaf1', 'leaf1', 'leaf1', 'leaf1',\n       'leaf1', 'leaf1', 'leaf1', 'leaf1', 'leaf1', 'leaf1', 'leaf1',\n       'leaf1', 'leaf1', 'leaf1', 'leaf1', 'leaf1', 'leaf1', 'leaf1',\n       'leaf1', 'leaf1', 'leaf1', 'leaf1', 'leaf1', 'leaf1', 'leaf1',\n       'leaf1', 'leaf1', 'leaf1', 'leaf1', 'leaf1', 'leaf1', 'leaf1',\n       'leaf1', 'leaf1', 'leaf1', 'leaf1', 'leaf1', 'leaf1', 'leaf1',\n       'leaf1', 'leaf1', 'leaf1', 'leaf1', 'leaf1', 'leaf1', 'leaf1',\n       'leaf1', 'leaf1', 'leaf1', 'leaf1', 'leaf1', 'leaf1', 'leaf1',\n       'leaf1', 'leaf1', 'leaf1', 'leaf1', 'leaf1', 'leaf1', 'leaf1',\n       'leaf1', 'leaf1', 'leaf1', 'leaf1', 'leaf1', 'leaf1', 'leaf1',\n       'leaf1', 'leaf1', 'leaf1', 'leaf1', 'leaf1', 'leaf1', 'leaf1',\n       'leaf1', 'leaf1', 'leaf1', 'leaf1', 'leaf1', 'leaf1', 'leaf1',\n       'leaf1', 'leaf1', 'leaf1', 'leaf1', 'leaf1', 'leaf1', 'leaf1',\n       'leaf1', 'leaf1', 'leaf1', 'leaf1', 'leaf1', 'leaf1', 'leaf1'],\n      dtype=object)"
     ]
    },
    {
     "data": {
      "image/png": "[encoded data removed]",
      "text/plain": [
       "<Figure size 432x288 with 1 Axes>"
      ]
     },
     "metadata": {
      "needs_background": "light"
     },
     "output_type": "display_data"
    }
   ],
   "source": [
    "fig, ax = plt.subplots()\n",
    "#ax.plot(times, dfNormalized['active-routes-count'], 'b')\n",
    "#ax.plot(times, dfNormalized['deleted-routes-count'], 'g')\n",
    "#ax.plot(times, dfNormalized['paths-count'], 'r')\n",
    "#ax.plot(times, dfNormalized['protocol-route-memory'], 'y')\n",
    "ax.plot(times, dfNormalized)\n",
    "#ax.axis([0, 700, 900, 1500])\n",
    "ax.set_ylim([-3, 3])\n",
    "for anomaly in truth.events:\n",
    "    ax.axvspan(anomaly['startTime'], anomaly['endTime'], alpha=0.2, color='red')"
   ]
  },
  {
   "cell_type": "code",
   "execution_count": null,
   "metadata": {},
   "outputs": [],
   "source": []
  }
 ],
 "metadata": {
  "kernelspec": {
   "display_name": "Python 3",
   "language": "python",
   "name": "python3"
  },
  "language_info": {
   "codemirror_mode": {
    "name": "ipython",
    "version": 3
   },
   "file_extension": ".py",
   "mimetype": "text/x-python",
   "name": "python",
   "nbconvert_exporter": "python",
   "pygments_lexer": "ipython3",
   "version": "3.7.3"
  }
 },
 "nbformat": 4,
 "nbformat_minor": 2
}
