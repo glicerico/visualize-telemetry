{
 "cells": [
  {
   "cell_type": "code",
   "execution_count": 43,
   "metadata": {},
   "outputs": [],
   "source": [
    "import tsne\n",
    "import numpy as np\n",
    "from matplotlib import pylab"
   ]
  },
  {
   "cell_type": "code",
   "execution_count": 69,
   "metadata": {},
   "outputs": [],
   "source": [
    "X = np.loadtxt(\"/home/andres/CAiN_repos/visualize-telemetry/notebooks/portflap_first_leaf2_DP.emb\")\n",
    "labels = np.loadtxt(\"/home/andres/CAiN_repos/visualize-telemetry/notebooks/portflap_first_leaf2_DP.lbl\",\\\n",
    "                    skiprows=1, usecols=(1))"
   ]
  },
  {
   "cell_type": "code",
   "execution_count": 70,
   "metadata": {},
   "outputs": [
    {
     "name": "stdout",
     "output_type": "stream",
     "text": [
      "Preprocessing the data using PCA...\n",
      "Computing pairwise distances...\n",
      "Computing P-values for point 0 of 350...\n",
      "Mean value of sigma: 3.461216\n",
      "Iteration 10: error is 17.510858\n",
      "Iteration 20: error is 14.269953\n",
      "Iteration 30: error is 12.643225\n",
      "Iteration 40: error is 11.487356\n",
      "Iteration 50: error is 10.872922\n",
      "Iteration 60: error is 10.618165\n",
      "Iteration 70: error is 10.634426\n",
      "Iteration 80: error is 10.705195\n",
      "Iteration 90: error is 10.426268\n",
      "Iteration 100: error is 10.416020\n",
      "Iteration 110: error is 1.162808\n",
      "Iteration 120: error is 0.724218\n",
      "Iteration 130: error is 0.580900\n",
      "Iteration 140: error is 0.507020\n",
      "Iteration 150: error is 0.453957\n",
      "Iteration 160: error is 0.405051\n",
      "Iteration 170: error is 0.362403\n",
      "Iteration 180: error is 0.331037\n",
      "Iteration 190: error is 0.308223\n",
      "Iteration 200: error is 0.290684\n",
      "Iteration 210: error is 0.277184\n",
      "Iteration 220: error is 0.266476\n",
      "Iteration 230: error is 0.257526\n",
      "Iteration 240: error is 0.250182\n",
      "Iteration 250: error is 0.244151\n",
      "Iteration 260: error is 0.238958\n",
      "Iteration 270: error is 0.234466\n",
      "Iteration 280: error is 0.230513\n",
      "Iteration 290: error is 0.226950\n",
      "Iteration 300: error is 0.223746\n",
      "Iteration 310: error is 0.220932\n",
      "Iteration 320: error is 0.218378\n",
      "Iteration 330: error is 0.215999\n",
      "Iteration 340: error is 0.213857\n",
      "Iteration 350: error is 0.211959\n",
      "Iteration 360: error is 0.210224\n",
      "Iteration 370: error is 0.208584\n",
      "Iteration 380: error is 0.207066\n",
      "Iteration 390: error is 0.205602\n",
      "Iteration 400: error is 0.204244\n",
      "Iteration 410: error is 0.202984\n",
      "Iteration 420: error is 0.201772\n",
      "Iteration 430: error is 0.200597\n",
      "Iteration 440: error is 0.199528\n",
      "Iteration 450: error is 0.198539\n",
      "Iteration 460: error is 0.197564\n",
      "Iteration 470: error is 0.196643\n",
      "Iteration 480: error is 0.195785\n",
      "Iteration 490: error is 0.194942\n",
      "Iteration 500: error is 0.194133\n",
      "Iteration 510: error is 0.193378\n",
      "Iteration 520: error is 0.192635\n",
      "Iteration 530: error is 0.191936\n",
      "Iteration 540: error is 0.191264\n",
      "Iteration 550: error is 0.190613\n",
      "Iteration 560: error is 0.189993\n",
      "Iteration 570: error is 0.189399\n",
      "Iteration 580: error is 0.188820\n",
      "Iteration 590: error is 0.188271\n",
      "Iteration 600: error is 0.187752\n",
      "Iteration 610: error is 0.187239\n",
      "Iteration 620: error is 0.186746\n",
      "Iteration 630: error is 0.186281\n",
      "Iteration 640: error is 0.185824\n",
      "Iteration 650: error is 0.185379\n",
      "Iteration 660: error is 0.184937\n",
      "Iteration 670: error is 0.184499\n",
      "Iteration 680: error is 0.184079\n",
      "Iteration 690: error is 0.183678\n",
      "Iteration 700: error is 0.183286\n",
      "Iteration 710: error is 0.182908\n",
      "Iteration 720: error is 0.182542\n",
      "Iteration 730: error is 0.182200\n",
      "Iteration 740: error is 0.181858\n",
      "Iteration 750: error is 0.181510\n",
      "Iteration 760: error is 0.181188\n",
      "Iteration 770: error is 0.180885\n",
      "Iteration 780: error is 0.180583\n",
      "Iteration 790: error is 0.180280\n",
      "Iteration 800: error is 0.179976\n",
      "Iteration 810: error is 0.179676\n",
      "Iteration 820: error is 0.179393\n",
      "Iteration 830: error is 0.179114\n",
      "Iteration 840: error is 0.178838\n",
      "Iteration 850: error is 0.178569\n",
      "Iteration 860: error is 0.178308\n",
      "Iteration 870: error is 0.178051\n",
      "Iteration 880: error is 0.177797\n",
      "Iteration 890: error is 0.177561\n",
      "Iteration 900: error is 0.177324\n",
      "Iteration 910: error is 0.177088\n",
      "Iteration 920: error is 0.176860\n",
      "Iteration 930: error is 0.176638\n",
      "Iteration 940: error is 0.176414\n",
      "Iteration 950: error is 0.176196\n",
      "Iteration 960: error is 0.175985\n",
      "Iteration 970: error is 0.175770\n",
      "Iteration 980: error is 0.175563\n",
      "Iteration 990: error is 0.175360\n",
      "Iteration 1000: error is 0.175160\n"
     ]
    }
   ],
   "source": [
    "Y = tsne.tsne(X, 2, 208, 7.0)"
   ]
  },
  {
   "cell_type": "code",
   "execution_count": 53,
   "metadata": {},
   "outputs": [
    {
     "data": {
      "text/plain": [
       "<matplotlib.collections.PathCollection at 0x7f0a04d207f0>"
      ]
     },
     "execution_count": 53,
     "metadata": {},
     "output_type": "execute_result"
    },
    {
     "name": "stderr",
     "output_type": "stream",
     "text": [
      "/home/andres/src/miniconda3/lib/python3.7/site-packages/matplotlib/colors.py:933: UserWarning: Warning: converting a masked element to nan.\n",
      "  dtype = np.min_scalar_type(value)\n",
      "/home/andres/src/miniconda3/lib/python3.7/site-packages/numpy/ma/core.py:713: UserWarning: Warning: converting a masked element to nan.\n",
      "  data = np.array(a, copy=False, subok=subok)\n"
     ]
    },
    {
     "data": {
      "image/png": "[encoded data removed]",
      "text/plain": [
       "<Figure size 432x288 with 1 Axes>"
      ]
     },
     "metadata": {
      "needs_background": "light"
     },
     "output_type": "display_data"
    }
   ],
   "source": [
    "pylab.scatter(Y[:, 0], Y[:, 1], 2, labels)"
   ]
  },
  {
   "cell_type": "code",
   "execution_count": 49,
   "metadata": {},
   "outputs": [
    {
     "data": {
      "text/plain": [
       "[<matplotlib.lines.Line2D at 0x7f0a04afac88>]"
      ]
     },
     "execution_count": 49,
     "metadata": {},
     "output_type": "execute_result"
    },
    {
     "data": {
      "image/png": "[encoded data removed]",
      "text/plain": [
       "<Figure size 432x288 with 1 Axes>"
      ]
     },
     "metadata": {
      "needs_background": "light"
     },
     "output_type": "display_data"
    }
   ],
   "source": [
    "pylab.plot(Y[:, 0], Y[:, 1])"
   ]
  },
  {
   "cell_type": "code",
   "execution_count": null,
   "metadata": {},
   "outputs": [],
   "source": []
  }
 ],
 "metadata": {
  "kernelspec": {
   "display_name": "Python 3",
   "language": "python",
   "name": "python3"
  },
  "language_info": {
   "codemirror_mode": {
    "name": "ipython",
    "version": 3
   },
   "file_extension": ".py",
   "mimetype": "text/x-python",
   "name": "python",
   "nbconvert_exporter": "python",
   "pygments_lexer": "ipython3",
   "version": "3.7.3"
  }
 },
 "nbformat": 4,
 "nbformat_minor": 2
}
